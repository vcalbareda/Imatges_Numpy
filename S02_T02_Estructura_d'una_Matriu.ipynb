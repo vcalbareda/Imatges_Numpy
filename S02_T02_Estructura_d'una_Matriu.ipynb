{
 "cells": [
  {
   "cell_type": "markdown",
   "id": "d34edd1a",
   "metadata": {},
   "source": [
    "### Exercici 1\n",
    "Crea un np.array d'una dimensió, que inclogui l'almenys 8 nombres sencers, data type int64. Mostra la dimensió i la forma de la matriu."
   ]
  },
  {
   "cell_type": "code",
   "execution_count": 1,
   "id": "5ad8a1c0",
   "metadata": {},
   "outputs": [],
   "source": [
    "import numpy as np"
   ]
  },
  {
   "cell_type": "code",
   "execution_count": 2,
   "id": "e4945875",
   "metadata": {},
   "outputs": [],
   "source": [
    "# Creo el array. No se especifica el tipo, ya que int64 es el typo por default con números enteros.\n",
    "arr1 = np.array ([12,358,7,84,27,128,99,5,389])"
   ]
  },
  {
   "cell_type": "code",
   "execution_count": 7,
   "id": "79275e8e",
   "metadata": {},
   "outputs": [
    {
     "data": {
      "text/plain": [
       "dtype('int64')"
      ]
     },
     "execution_count": 7,
     "metadata": {},
     "output_type": "execute_result"
    }
   ],
   "source": [
    "#Mostrar el typo de datos\n",
    "arr1.dtype"
   ]
  },
  {
   "cell_type": "code",
   "execution_count": 3,
   "id": "2147fae7",
   "metadata": {},
   "outputs": [
    {
     "name": "stdout",
     "output_type": "stream",
     "text": [
      "1\n"
     ]
    }
   ],
   "source": [
    "# muestra la dimensión del array\n",
    "arr1.ndim"
   ]
  },
  {
   "cell_type": "code",
   "execution_count": 9,
   "id": "b0e75928",
   "metadata": {},
   "outputs": [
    {
     "data": {
      "text/plain": [
       "(9,)"
      ]
     },
     "execution_count": 9,
     "metadata": {},
     "output_type": "execute_result"
    }
   ],
   "source": [
    "# muestra la forma del array\n",
    "arr1.shape"
   ]
  },
  {
   "cell_type": "code",
   "execution_count": 6,
   "id": "f6858d56",
   "metadata": {},
   "outputs": [
    {
     "name": "stdout",
     "output_type": "stream",
     "text": [
      "[52 26 82 12 89 41  1 25 39 51]\n"
     ]
    }
   ],
   "source": [
    "# forma alternativa de crear de array con una función random.\n",
    "from numpy import random\n",
    "\n",
    "arr2 = random.randint(100, size=(10))\n",
    "print (arr2)"
   ]
  },
  {
   "cell_type": "markdown",
   "id": "9bf2fc9e",
   "metadata": {},
   "source": [
    "### Exercici 2\n",
    "De la matriu de l'exercici 1, calcula el valor mitjà dels valors introduïts i resta la mitjana resultant de cada un dels valors de la matriu."
   ]
  },
  {
   "cell_type": "code",
   "execution_count": null,
   "id": "4bb9cbfe",
   "metadata": {},
   "outputs": [],
   "source": [
    "# Cálculo de la media con la función de numpy.\n",
    "np.mean(arr1) "
   ]
  },
  {
   "cell_type": "code",
   "execution_count": 21,
   "id": "1d2df9da",
   "metadata": {},
   "outputs": [
    {
     "data": {
      "text/plain": [
       "array([-111.22222222,  234.77777778, -116.22222222,  -39.22222222,\n",
       "        -96.22222222,    4.77777778,  -24.22222222, -118.22222222,\n",
       "        265.77777778])"
      ]
     },
     "execution_count": 21,
     "metadata": {},
     "output_type": "execute_result"
    }
   ],
   "source": [
    "# Resta la media de cada valor del array.\n",
    "arr1 - np.mean(arr1)"
   ]
  },
  {
   "cell_type": "markdown",
   "id": "78e34479",
   "metadata": {},
   "source": [
    "### Exercici 3\n",
    "Crea una matriu bidimensional amb una forma de 5 x 5. Extreu el valor màxim de la matriu, i els valors màxims de cadascun dels seus eixos."
   ]
  },
  {
   "cell_type": "code",
   "execution_count": 39,
   "id": "861bff8f",
   "metadata": {},
   "outputs": [
    {
     "name": "stdout",
     "output_type": "stream",
     "text": [
      "[[ 1  2  3  4  5]\n",
      " [ 6  7  8  9 10]]\n"
     ]
    }
   ],
   "source": [
    "# Creada la matriz bidimensional de forma manual.\n",
    "arr3 = np.array ([ [1,2,3,4,5],[6,7,8,9,10] ])"
   ]
  },
  {
   "cell_type": "code",
   "execution_count": 42,
   "id": "a9a2ae0e",
   "metadata": {},
   "outputs": [
    {
     "data": {
      "text/plain": [
       "10"
      ]
     },
     "execution_count": 42,
     "metadata": {},
     "output_type": "execute_result"
    }
   ],
   "source": [
    "# Extrae el valor máximo de la matriz (pertenece a la dimensión 0).\n",
    "np.max(arr3)"
   ]
  },
  {
   "cell_type": "code",
   "execution_count": 52,
   "id": "b5aa330b",
   "metadata": {},
   "outputs": [
    {
     "data": {
      "text/plain": [
       "array([ 5, 10])"
      ]
     },
     "execution_count": 52,
     "metadata": {},
     "output_type": "execute_result"
    }
   ],
   "source": [
    "# Extrae el valor máximo de las dos dimensiones.\n",
    "arr3.max(axis=1)"
   ]
  },
  {
   "cell_type": "markdown",
   "id": "013c91c7",
   "metadata": {},
   "source": [
    "### Exercici 4\n",
    "Mostreu-me amb exemples de diferents matrius, la regla fonamental de Broadcasting que diu : \"les matrius es poden transmetre / broadcast si les seves dimensions coincideixen o si una de les matrius té una mida d'1\"."
   ]
  },
  {
   "cell_type": "code",
   "execution_count": null,
   "id": "34ce680e",
   "metadata": {},
   "outputs": [],
   "source": []
  },
  {
   "cell_type": "markdown",
   "id": "f0c16e35",
   "metadata": {},
   "source": [
    "### Exercici 5\n",
    "Utilitza la Indexació per extreure els valors d'una columna i una fila de la matriu. I suma els seus valors."
   ]
  },
  {
   "cell_type": "code",
   "execution_count": null,
   "id": "d40d183e",
   "metadata": {},
   "outputs": [],
   "source": []
  },
  {
   "cell_type": "markdown",
   "id": "85f0dc60",
   "metadata": {},
   "source": [
    "### Exercici 6\n",
    "Mask la matriu anterior, realitzeu un càlcul booleà vectoritzat, agafant cada element i comprovant si es divideix uniformement per quatre.\n",
    "\n",
    "Això retorna una matriu de mask de la mateixa forma amb els resultats elementals del càlcul."
   ]
  },
  {
   "cell_type": "code",
   "execution_count": null,
   "id": "97aabb9e",
   "metadata": {},
   "outputs": [],
   "source": []
  },
  {
   "cell_type": "markdown",
   "id": "afae112d",
   "metadata": {},
   "source": [
    "### Exercici 7\n",
    "A continuació, utilitzeu aquesta màscara per indexar a la matriu de números original. Això fa que la matriu perdi la seva forma original, reduint-la a una dimensió, però encara obteniu les dades que esteu cercant."
   ]
  },
  {
   "cell_type": "code",
   "execution_count": null,
   "id": "c743a398",
   "metadata": {},
   "outputs": [],
   "source": []
  },
  {
   "cell_type": "markdown",
   "id": "f435740b",
   "metadata": {},
   "source": [
    "### Exercici 8\n",
    "Mostreu-me a veure que passa quan eliminem el canal G Verd o B Blau.\n",
    "\n",
    "Mostreu-me a veure què passa quan eliminem el canal G Verd o B Blau. Hauries d'utilitzar la indexació per seleccionar el canal que voleu anul·lar.\n",
    "\n",
    "Utilitzar el mètode, mpimg.imsave () de la llibreria importada, per guardar les imatges modificades i que haureu de pujar al vostre repositori a github."
   ]
  },
  {
   "cell_type": "code",
   "execution_count": null,
   "id": "9bffaaa3",
   "metadata": {},
   "outputs": [],
   "source": []
  },
  {
   "cell_type": "code",
   "execution_count": null,
   "id": "db03a73b",
   "metadata": {},
   "outputs": [],
   "source": []
  },
  {
   "cell_type": "code",
   "execution_count": null,
   "id": "922a73b7",
   "metadata": {},
   "outputs": [],
   "source": []
  },
  {
   "cell_type": "code",
   "execution_count": null,
   "id": "e13ba8a6",
   "metadata": {},
   "outputs": [],
   "source": []
  }
 ],
 "metadata": {
  "kernelspec": {
   "display_name": "Python 3 (ipykernel)",
   "language": "python",
   "name": "python3"
  },
  "language_info": {
   "codemirror_mode": {
    "name": "ipython",
    "version": 3
   },
   "file_extension": ".py",
   "mimetype": "text/x-python",
   "name": "python",
   "nbconvert_exporter": "python",
   "pygments_lexer": "ipython3",
   "version": "3.9.7"
  },
  "latex_envs": {
   "LaTeX_envs_menu_present": true,
   "autoclose": false,
   "autocomplete": true,
   "bibliofile": "biblio.bib",
   "cite_by": "apalike",
   "current_citInitial": 1,
   "eqLabelWithNumbers": true,
   "eqNumInitial": 1,
   "hotkeys": {
    "equation": "Ctrl-E",
    "itemize": "Ctrl-I"
   },
   "labels_anchors": false,
   "latex_user_defs": false,
   "report_style_numbering": false,
   "user_envs_cfg": false
  }
 },
 "nbformat": 4,
 "nbformat_minor": 5
}
